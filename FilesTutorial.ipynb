{
 "cells": [
  {
   "cell_type": "code",
   "execution_count": 6,
   "source": [
    " f = open ('test.txt', 'r')"
   ],
   "outputs": [],
   "metadata": {}
  },
  {
   "cell_type": "code",
   "execution_count": null,
   "source": [
    " f = open ('test.txt', 'w')"
   ],
   "outputs": [],
   "metadata": {}
  },
  {
   "cell_type": "code",
   "execution_count": null,
   "source": [
    " f = open ('test.txt', 'a')"
   ],
   "outputs": [],
   "metadata": {}
  },
  {
   "cell_type": "code",
   "execution_count": null,
   "source": [
    " f = open ('test.txt', 'r+')"
   ],
   "outputs": [],
   "metadata": {}
  },
  {
   "cell_type": "code",
   "execution_count": 8,
   "source": [
    "print(f.name)"
   ],
   "outputs": [
    {
     "output_type": "stream",
     "name": "stdout",
     "text": [
      "test.txt\n"
     ]
    }
   ],
   "metadata": {}
  },
  {
   "cell_type": "code",
   "execution_count": 9,
   "source": [
    "print(f.mode)"
   ],
   "outputs": [
    {
     "output_type": "stream",
     "name": "stdout",
     "text": [
      "r\n"
     ]
    }
   ],
   "metadata": {}
  },
  {
   "cell_type": "code",
   "execution_count": null,
   "source": [
    "f.close()"
   ],
   "outputs": [],
   "metadata": {}
  },
  {
   "cell_type": "code",
   "execution_count": null,
   "source": [
    "with open ('test.txt', 'r') as f:\r\n",
    "    pass"
   ],
   "outputs": [],
   "metadata": {}
  },
  {
   "cell_type": "code",
   "execution_count": 20,
   "source": [
    "cd ~/Desktop/Week 3/exerPythFilesTutorial"
   ],
   "outputs": [
    {
     "output_type": "stream",
     "name": "stdout",
     "text": [
      "C:\\Users\\absep\\Desktop\\Week 3\\exerPythFilesTutorial\n"
     ]
    }
   ],
   "metadata": {}
  },
  {
   "cell_type": "code",
   "execution_count": 35,
   "source": [
    "with open('test.txt', 'r') as f:\r\n",
    "   f_contents = f.read()\r\n",
    "   print(f_contents)"
   ],
   "outputs": [
    {
     "output_type": "stream",
     "name": "stdout",
     "text": [
      "Hello World\n",
      "This is  Test Text\n",
      "Third line\n",
      "Fourth line\n",
      "5th line\n",
      "6th line\n",
      "7th line\n",
      "8th line\n",
      "9th line\n",
      "tenth line hooray\n"
     ]
    }
   ],
   "metadata": {}
  },
  {
   "cell_type": "code",
   "execution_count": 31,
   "source": [
    "print(f.closed)"
   ],
   "outputs": [
    {
     "output_type": "stream",
     "name": "stdout",
     "text": [
      "True\n"
     ]
    }
   ],
   "metadata": {}
  },
  {
   "cell_type": "code",
   "execution_count": 34,
   "source": [
    "os.listdir()"
   ],
   "outputs": [
    {
     "output_type": "execute_result",
     "data": {
      "text/plain": [
       "['.git', 'README.md', 'test.txt']"
      ]
     },
     "metadata": {},
     "execution_count": 34
    }
   ],
   "metadata": {}
  },
  {
   "cell_type": "code",
   "execution_count": null,
   "source": [
    "# a context manager allows to manage files within python, and when you exit the block of code it will automatically close the file, takes care of all the cleanup. "
   ],
   "outputs": [],
   "metadata": {}
  },
  {
   "cell_type": "code",
   "execution_count": 37,
   "source": [
    "with open('test.txt', 'r') as f:\r\n",
    "   f_contents = f.readlines()\r\n",
    "   print(f_contents)"
   ],
   "outputs": [
    {
     "output_type": "stream",
     "name": "stdout",
     "text": [
      "['Hello World\\n', 'This is  Test Text\\n', 'Third line\\n', 'Fourth line\\n', '5th line\\n', '6th line\\n', '7th line\\n', '8th line\\n', '9th line\\n', 'tenth line hooray']\n"
     ]
    }
   ],
   "metadata": {}
  },
  {
   "cell_type": "code",
   "execution_count": 42,
   "source": [
    "with open('test.txt', 'r') as f:\r\n",
    "   f_contents = f.readline()\r\n",
    "   print(f_contents)"
   ],
   "outputs": [
    {
     "output_type": "stream",
     "name": "stdout",
     "text": [
      "Hello World\n",
      "\n"
     ]
    }
   ],
   "metadata": {}
  },
  {
   "cell_type": "code",
   "execution_count": 44,
   "source": [
    "with open('test.txt', 'r') as f:\r\n",
    "   f_contents = f.readline()\r\n",
    "   print(f_contents)\r\n",
    "\r\n",
    "   f_contents = f.readline()\r\n",
    "   print(f_contents)"
   ],
   "outputs": [
    {
     "output_type": "stream",
     "name": "stdout",
     "text": [
      "Hello World\n",
      "\n",
      "This is  Test Text\n",
      "\n"
     ]
    }
   ],
   "metadata": {}
  },
  {
   "cell_type": "code",
   "execution_count": 54,
   "source": [
    "with open('test.txt', 'r') as f:\r\n",
    "\r\n",
    "    for line in f:\r\n",
    "        print(line, end='')"
   ],
   "outputs": [
    {
     "output_type": "stream",
     "name": "stdout",
     "text": [
      "Hello World\n",
      "This is  Test Text\n",
      "Third line\n",
      "Fourth line\n",
      "5th line\n",
      "6th line\n",
      "7th line\n",
      "8th line\n",
      "9th line\n",
      "tenth line hooray"
     ]
    }
   ],
   "metadata": {}
  },
  {
   "cell_type": "code",
   "execution_count": 56,
   "source": [
    "with open('test.txt', 'r') as f:\r\n",
    "   f_contents = f.read(100)\r\n",
    "   print(f_contents, end='')"
   ],
   "outputs": [
    {
     "output_type": "stream",
     "name": "stdout",
     "text": [
      "Hello World\n",
      "This is  Test Text\n",
      "Third line\n",
      "Fourth line\n",
      "5th line\n",
      "6th line\n",
      "7th line\n",
      "8th line\n",
      "9th line\n",
      "t"
     ]
    }
   ],
   "metadata": {}
  },
  {
   "cell_type": "code",
   "execution_count": 65,
   "source": [
    "with open('test.txt', 'r') as f:\r\n",
    "    size_to_read = 100\r\n",
    "    f_contents =f.read(size_to_read)\r\n",
    "\r\n",
    "    while len(f_contents) >0:\r\n",
    "        print(f_contents, end='')\r\n",
    "        f_contents =f.read(size_to_read)"
   ],
   "outputs": [
    {
     "output_type": "stream",
     "name": "stdout",
     "text": [
      "Hello World\n",
      "This is  Test Text\n",
      "Third line\n",
      "Fourth line\n",
      "5th line\n",
      "6th line\n",
      "7th line\n",
      "8th line\n",
      "9th line\n",
      "tenth line hooray"
     ]
    }
   ],
   "metadata": {}
  },
  {
   "cell_type": "code",
   "execution_count": 66,
   "source": [
    "with open('test.txt', 'r') as f:\r\n",
    "    size_to_read = 10\r\n",
    "    f_contents =f.read(size_to_read)\r\n",
    "\r\n",
    "    while len(f_contents) >0:\r\n",
    "        print(f_contents, end='*')\r\n",
    "        f_contents =f.read(size_to_read)"
   ],
   "outputs": [
    {
     "output_type": "stream",
     "name": "stdout",
     "text": [
      "Hello Worl*d\n",
      "This is * Test Text*\n",
      "Third lin*e\n",
      "Fourth l*ine\n",
      "5th li*ne\n",
      "6th lin*e\n",
      "7th line*\n",
      "8th line\n",
      "*9th line\n",
      "t*enth line *hooray*"
     ]
    }
   ],
   "metadata": {}
  },
  {
   "cell_type": "code",
   "execution_count": 68,
   "source": [
    "with open('test.txt', 'r') as f:\r\n",
    "    size_to_read = 10\r\n",
    "    f_contents =f.read(size_to_read)\r\n",
    "\r\n",
    "    print(f.tell())\r\n"
   ],
   "outputs": [
    {
     "output_type": "stream",
     "name": "stdout",
     "text": [
      "10\n"
     ]
    }
   ],
   "metadata": {}
  },
  {
   "cell_type": "code",
   "execution_count": 69,
   "source": [
    "with open('test.txt', 'r') as f:\r\n",
    "    size_to_read = 10\r\n",
    "\r\n",
    "    f_contents =f.read(size_to_read)\r\n",
    "    print(f_contents, end='')\r\n",
    "\r\n",
    "    f_contents =f.read(size_to_read)\r\n",
    "    print(f_contents)"
   ],
   "outputs": [
    {
     "output_type": "stream",
     "name": "stdout",
     "text": [
      "Hello World\n",
      "This is \n"
     ]
    }
   ],
   "metadata": {}
  },
  {
   "cell_type": "code",
   "execution_count": 70,
   "source": [
    "with open('test.txt', 'r') as f:\r\n",
    "    size_to_read = 10\r\n",
    "\r\n",
    "    f_contents =f.read(size_to_read)\r\n",
    "    print(f_contents, end='')\r\n",
    "\r\n",
    "    f.seek(0)\r\n",
    "\r\n",
    "    f_contents =f.read(size_to_read)\r\n",
    "    print(f_contents)"
   ],
   "outputs": [
    {
     "output_type": "stream",
     "name": "stdout",
     "text": [
      "Hello WorlHello Worl\n"
     ]
    }
   ],
   "metadata": {}
  },
  {
   "cell_type": "code",
   "execution_count": 71,
   "source": [
    "with open('test2.txt', 'w') as f:\r\n",
    "    pass\r\n",
    "    "
   ],
   "outputs": [],
   "metadata": {}
  },
  {
   "cell_type": "code",
   "execution_count": 73,
   "source": [
    "with open('test2.txt', 'w') as f:\r\n",
    "    f.write('Test')\r\n",
    "    f.write('Test')"
   ],
   "outputs": [],
   "metadata": {}
  },
  {
   "cell_type": "code",
   "execution_count": 74,
   "source": [
    "with open('test.txt', 'r') as rf:\r\n",
    "    with open('test_copy.txt', 'w') as wf:\r\n",
    "        for line in rf:\r\n",
    "            wf.write(line)"
   ],
   "outputs": [],
   "metadata": {}
  },
  {
   "cell_type": "code",
   "execution_count": 76,
   "source": [
    "with open('capture.png', 'rb') as rf:\r\n",
    "    with open('capture_copy.png', 'wb') as wf:\r\n",
    "        for line in rf:\r\n",
    "            wf.write(line)\r\n"
   ],
   "outputs": [],
   "metadata": {}
  },
  {
   "cell_type": "code",
   "execution_count": 77,
   "source": [
    "with open('capture.png', 'rb') as rf:\r\n",
    "    with open('capture_copy.png', 'wb') as wf:\r\n",
    "        chunk_size = 4096\r\n",
    "        rf_chunk = rf.read(chunk_size)\r\n",
    "        while len(rf_chunk) >0:\r\n",
    "            wf.write(rf_chunk)\r\n",
    "            rf_chunk = rf.read(chunk_size)"
   ],
   "outputs": [],
   "metadata": {}
  }
 ],
 "metadata": {
  "orig_nbformat": 4,
  "language_info": {
   "name": "python",
   "version": "3.8.11",
   "mimetype": "text/x-python",
   "codemirror_mode": {
    "name": "ipython",
    "version": 3
   },
   "pygments_lexer": "ipython3",
   "nbconvert_exporter": "python",
   "file_extension": ".py"
  },
  "kernelspec": {
   "name": "python3",
   "display_name": "Python 3.8.11 64-bit ('Python Program Env': conda)"
  },
  "interpreter": {
   "hash": "4026343e53e3e0a5ef5eeba46dbdcc46936b61df1d9108669cd122dad17b1de9"
  }
 },
 "nbformat": 4,
 "nbformat_minor": 2
}